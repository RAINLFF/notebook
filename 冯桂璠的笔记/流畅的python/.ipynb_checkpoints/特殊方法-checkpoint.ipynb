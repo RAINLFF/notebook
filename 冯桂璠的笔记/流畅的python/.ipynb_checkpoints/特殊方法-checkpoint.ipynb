{
 "cells": [
  {
   "cell_type": "code",
   "execution_count": 9,
   "metadata": {},
   "outputs": [
    {
     "ename": "TypeError",
     "evalue": "'FrenchDeck' object does not support indexing",
     "output_type": "error",
     "traceback": [
      "\u001b[0;31m---------------------------------------------------------------------------\u001b[0m",
      "\u001b[0;31mTypeError\u001b[0m                                 Traceback (most recent call last)",
      "\u001b[0;32m<ipython-input-9-d3e936447525>\u001b[0m in \u001b[0;36m<module>\u001b[0;34m()\u001b[0m\n\u001b[1;32m     12\u001b[0m \u001b[0mdeck\u001b[0m \u001b[0;34m=\u001b[0m \u001b[0mFrenchDeck\u001b[0m\u001b[0;34m(\u001b[0m\u001b[0;34m)\u001b[0m\u001b[0;34m\u001b[0m\u001b[0m\n\u001b[1;32m     13\u001b[0m \u001b[0;31m#len(deck)\u001b[0m\u001b[0;34m\u001b[0m\u001b[0;34m\u001b[0m\u001b[0m\n\u001b[0;32m---> 14\u001b[0;31m \u001b[0mprint\u001b[0m\u001b[0;34m[\u001b[0m\u001b[0mdeck\u001b[0m\u001b[0;34m[\u001b[0m\u001b[0;36m0\u001b[0m\u001b[0;34m]\u001b[0m\u001b[0;34m]\u001b[0m\u001b[0;34m\u001b[0m\u001b[0m\n\u001b[0m",
      "\u001b[0;31mTypeError\u001b[0m: 'FrenchDeck' object does not support indexing"
     ]
    }
   ],
   "source": [
    "import collections\n",
    "\n",
    "Card = collections.namedtuple('Card',['rank','suit'])\n",
    "\n",
    "class FrenchDeck:\n",
    "    ranks = [str(n) for n in range(2,11)] + list('JQKA')\n",
    "    suits = 'spades diamonds clubs hearts'.split()\n",
    "    def __init__(self):\n",
    "        self._cards = [Card(rank,suit) for suit in self.suits\n",
    "                      for rank in self.ranks]\n",
    "        \n",
    "deck = FrenchDeck()\n",
    "len(deck)\n",
    "print[deck[0]]"
   ]
  },
  {
   "cell_type": "markdown",
   "metadata": {},
   "source": [
    "# 以上是French类的定义\n",
    "### 可以发现，French不支持len以及索引方法，这是因为他并不知道你以什么属性作为len或者[]的标准\n",
    "### 所以，我们加上以下的方法"
   ]
  },
  {
   "cell_type": "code",
   "execution_count": 15,
   "metadata": {},
   "outputs": [
    {
     "name": "stdout",
     "output_type": "stream",
     "text": [
      "Card(rank='5', suit='spades')\n"
     ]
    }
   ],
   "source": [
    "import collections\n",
    "\n",
    "Card = collections.namedtuple('Card',['rank','suit'])\n",
    "\n",
    "class FrenchDeck:\n",
    "    ranks = [str(n) for n in range(2,11)] + list('JQKA')\n",
    "    suits = 'spades diamonds clubs hearts'.split()\n",
    "    def __init__(self):\n",
    "        self._cards = [Card(rank,suit) for suit in self.suits\n",
    "                      for rank in self.ranks]\n",
    "    \n",
    "    #新加入的方法\n",
    "    def __len__(self):\n",
    "        return len(self._cards)\n",
    "    \n",
    "    def __getitem__(self,position):\n",
    "        return self._cards[position]\n",
    "        \n",
    "deck = FrenchDeck()\n",
    "len(deck)\n",
    "print(deck[3])"
   ]
  },
  {
   "cell_type": "markdown",
   "metadata": {},
   "source": [
    "### 可以发现，当添加了__len__和__getitem__后，支持了len以及索引\n",
    "### 由此可以引申出一个知识点，len以及[]都是通过调用特殊方法实现，也就是__len__以及__getitem__\n",
    "### 当定义了__getitem__后，会支持切片操作，这个类也会变成可迭代对象"
   ]
  },
  {
   "cell_type": "code",
   "execution_count": 19,
   "metadata": {},
   "outputs": [
    {
     "name": "stdout",
     "output_type": "stream",
     "text": [
      "2,spades 3,spades 4,spades 5,spades 6,spades 7,spades 8,spades 9,spades 10,spades J,spades Q,spades K,spades A,spades 2,diamonds 3,diamonds 4,diamonds 5,diamonds 6,diamonds 7,diamonds 8,diamonds 9,diamonds 10,diamonds J,diamonds Q,diamonds K,diamonds A,diamonds 2,clubs 3,clubs 4,clubs 5,clubs 6,clubs 7,clubs 8,clubs 9,clubs 10,clubs J,clubs Q,clubs K,clubs A,clubs 2,hearts 3,hearts 4,hearts 5,hearts 6,hearts 7,hearts 8,hearts 9,hearts 10,hearts J,hearts Q,hearts K,hearts A,hearts "
     ]
    }
   ],
   "source": [
    "for item in deck:\n",
    "    print('%s,%s' % (item.rank,item.suit),end=' ')"
   ]
  },
  {
   "cell_type": "code",
   "execution_count": 32,
   "metadata": {},
   "outputs": [
    {
     "name": "stdout",
     "output_type": "stream",
     "text": [
      "Vector(2,3)\n",
      "Vector(6,9)\n"
     ]
    }
   ],
   "source": [
    "from math import hypot\n",
    "\n",
    "class Vector():\n",
    "    def __init__(self,x = 0,y=0):\n",
    "        self.x = x\n",
    "        self.y = y\n",
    "        \n",
    "    def __repr__(self):\n",
    "        return 'Vector(%r,%r)' % (self.x,self.y)\n",
    "    \n",
    "    def __abs__(self):\n",
    "        return hypot(self.x,self.y)\n",
    "    \n",
    "    def __bool__(self):\n",
    "        return bool(abs(self))\n",
    "    \n",
    "    def __add__(self,other):\n",
    "        x = self.x + other.x\n",
    "        y = self.y + other.y\n",
    "        return Vector(x,y)\n",
    "    \n",
    "    def __mul__(self,scalar):\n",
    "        return Vector(self.x * scalar,self.y*scalar)\n",
    "    \n",
    "vec1 = Vector(2,3)\n",
    "vec2 = Vector(3,4)\n",
    "print(vec1)\n",
    "print(vec1 * 3)\n"
   ]
  },
  {
   "cell_type": "markdown",
   "metadata": {},
   "source": [
    "# 特殊方法小结\n",
    "* 特殊方法是为了被编译器调用的，自己并不需要调用它，也就是说没有my_obj.\\__len__()这种方法，而是应该调用len(my_object)\n",
    "* 如果是python内置的类型，比如list,str,bytearray等，那么CPython会直接抄个近路，\\__len__实际上会直接返回ob_size属性，这比调用方法快很多\n",
    "* 很多时候，特殊方法的调用是隐式的，比如 for i in x: 背后用的是iter(x),这个函数调用的是x.\\__iter__() 方法\n",
    "* 除非有大量的元编程，否则应该是通过内置的len，iter等方法来调用特殊方法，而不是直接调用特殊方法，len，iter等内置函数不仅会调用特殊方法，还会提供一定的好处\n",
    "* 不要随意添加特殊方法，比如\\__foo__，虽然目前这个名字还没被用到，但以后就不一定了"
   ]
  },
  {
   "cell_type": "code",
   "execution_count": null,
   "metadata": {},
   "outputs": [],
   "source": []
  }
 ],
 "metadata": {
  "kernelspec": {
   "display_name": "Python 3",
   "language": "python",
   "name": "python3"
  },
  "language_info": {
   "codemirror_mode": {
    "name": "ipython",
    "version": 3
   },
   "file_extension": ".py",
   "mimetype": "text/x-python",
   "name": "python",
   "nbconvert_exporter": "python",
   "pygments_lexer": "ipython3",
   "version": "3.6.5"
  }
 },
 "nbformat": 4,
 "nbformat_minor": 2
}
