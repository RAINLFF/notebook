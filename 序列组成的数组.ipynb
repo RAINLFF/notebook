{
 "cells": [
  {
   "cell_type": "markdown",
   "metadata": {},
   "source": [
    "### 数据结构\n",
    "#### python标准库用C实现了丰富的序列类型，列举如下\n",
    "### 容器序列\n",
    "* list tuple collections deque 这些序列能存放不同类型的数据\n",
    "### 扁平序列\n",
    "* str bytes bytearray memoryview array.array\n",
    "#### 容器序列存放的是它们包含的任意类型的对象的引用，而扁平序列里存放的是值而不是引用，换句话说，扁平序列其实是一段连续的内存空间\n",
    "### 可变序列\n",
    "* list bytearray array.array collections.deque memoryview\n",
    "### 不可变序列\n",
    "* tuple str bytes"
   ]
  },
  {
   "cell_type": "code",
   "execution_count": null,
   "metadata": {},
   "outputs": [],
   "source": []
  },
  {
   "cell_type": "code",
   "execution_count": null,
   "metadata": {},
   "outputs": [],
   "source": []
  }
 ],
 "metadata": {
  "kernelspec": {
   "display_name": "Python 3",
   "language": "python",
   "name": "python3"
  },
  "language_info": {
   "codemirror_mode": {
    "name": "ipython",
    "version": 3
   },
   "file_extension": ".py",
   "mimetype": "text/x-python",
   "name": "python",
   "nbconvert_exporter": "python",
   "pygments_lexer": "ipython3",
   "version": "3.6.5"
  }
 },
 "nbformat": 4,
 "nbformat_minor": 2
}
